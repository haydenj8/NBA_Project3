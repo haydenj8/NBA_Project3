{
 "cells": [
  {
   "cell_type": "markdown",
   "id": "0f9db21e-5c79-469b-a978-4df2409ffe18",
   "metadata": {},
   "source": [
    "# NBA Project for predicting Hall of Famers Based Off Career Stats"
   ]
  },
  {
   "cell_type": "markdown",
   "id": "fed8bdd7-b3dc-46a8-b934-1278b91079fb",
   "metadata": {},
   "source": [
    "## The following members were all contributers to this notebook\n",
    "### Hayden Johnson, Wil Dotson, and Lorin Helfenstein"
   ]
  },
  {
   "cell_type": "code",
   "execution_count": 1,
   "id": "12879c8e-150f-4747-afb2-2fa68745392a",
   "metadata": {},
   "outputs": [],
   "source": [
    "import pandas as pd\n",
    "from sklearn.model_selection import train_test_split, GridSearchCV\n",
    "from sklearn.linear_model import LogisticRegression\n",
    "from sklearn.preprocessing import StandardScaler\n",
    "from sklearn.impute import SimpleImputer\n",
    "from sklearn.ensemble import RandomForestClassifier\n",
    "from sklearn.metrics import accuracy_score, precision_score\n",
    "import warnings\n",
    "warnings.filterwarnings(\"ignore\")"
   ]
  },
  {
   "cell_type": "markdown",
   "id": "94f0c35f-ec47-4126-b3ac-f001c50eacca",
   "metadata": {},
   "source": [
    "- #### Reading in the players and stats CSVs"
   ]
  },
  {
   "cell_type": "code",
   "execution_count": 2,
   "id": "885da9c2-f8c7-4c4f-9138-b3bebf93beed",
   "metadata": {},
   "outputs": [],
   "source": [
    "players = pd.read_csv('Data/Players.csv')"
   ]
  },
  {
   "cell_type": "code",
   "execution_count": 3,
   "id": "cc3cb1b7-daf5-420b-ae54-430de7e00295",
   "metadata": {},
   "outputs": [],
   "source": [
    "stats = pd.read_csv('Data/Seasons_stats.csv')"
   ]
  },
  {
   "cell_type": "markdown",
   "id": "d2cdd86c-4d1e-4357-904c-42a30909281e",
   "metadata": {},
   "source": [
    "- #### Dropping the Unnamed column from the dataframe"
   ]
  },
  {
   "cell_type": "code",
   "execution_count": 4,
   "id": "79a2f57e-b300-4860-8edd-a2e0563cec37",
   "metadata": {},
   "outputs": [],
   "source": [
    "players = players.drop(columns= ['Unnamed: 0'], axis=1)"
   ]
  },
  {
   "cell_type": "code",
   "execution_count": 5,
   "id": "1d67ef84-548c-4cb7-aca8-ab099b9cbed2",
   "metadata": {},
   "outputs": [],
   "source": [
    "stats = stats.drop(columns= ['Unnamed: 0'], axis=1)"
   ]
  },
  {
   "cell_type": "markdown",
   "id": "64cbb96c-4f65-4e88-b779-5df37e1c0e52",
   "metadata": {},
   "source": [
    "- #### Checking for the unique number of players in the stats dataframe to determine how many individual players we have in the dataset"
   ]
  },
  {
   "cell_type": "code",
   "execution_count": 6,
   "id": "a39de6f9-de5b-4991-8426-d07650fd82f0",
   "metadata": {},
   "outputs": [
    {
     "data": {
      "text/plain": [
       "3922"
      ]
     },
     "execution_count": 6,
     "metadata": {},
     "output_type": "execute_result"
    }
   ],
   "source": [
    "len(stats.Player.unique())"
   ]
  },
  {
   "cell_type": "markdown",
   "id": "f8b1a676-878f-46a5-81ed-d0e405418f97",
   "metadata": {},
   "source": [
    "- #### Checking the attributes of the stats dataset"
   ]
  },
  {
   "cell_type": "code",
   "execution_count": 7,
   "id": "1da5d0a2-caa2-455a-a101-815f1a2b74a8",
   "metadata": {
    "tags": []
   },
   "outputs": [
    {
     "name": "stdout",
     "output_type": "stream",
     "text": [
      "<class 'pandas.core.frame.DataFrame'>\n",
      "RangeIndex: 24691 entries, 0 to 24690\n",
      "Data columns (total 52 columns):\n",
      " #   Column  Non-Null Count  Dtype  \n",
      "---  ------  --------------  -----  \n",
      " 0   Year    24624 non-null  float64\n",
      " 1   Player  24624 non-null  object \n",
      " 2   Pos     24624 non-null  object \n",
      " 3   Age     24616 non-null  float64\n",
      " 4   Tm      24624 non-null  object \n",
      " 5   G       24624 non-null  float64\n",
      " 6   GS      18233 non-null  float64\n",
      " 7   MP      24138 non-null  float64\n",
      " 8   PER     24101 non-null  float64\n",
      " 9   TS%     24538 non-null  float64\n",
      " 10  3PAr    18839 non-null  float64\n",
      " 11  FTr     24525 non-null  float64\n",
      " 12  ORB%    20792 non-null  float64\n",
      " 13  DRB%    20792 non-null  float64\n",
      " 14  TRB%    21571 non-null  float64\n",
      " 15  AST%    22555 non-null  float64\n",
      " 16  STL%    20792 non-null  float64\n",
      " 17  BLK%    20792 non-null  float64\n",
      " 18  TOV%    19582 non-null  float64\n",
      " 19  USG%    19640 non-null  float64\n",
      " 20  blanl   0 non-null      float64\n",
      " 21  OWS     24585 non-null  float64\n",
      " 22  DWS     24585 non-null  float64\n",
      " 23  WS      24585 non-null  float64\n",
      " 24  WS/48   24101 non-null  float64\n",
      " 25  blank2  0 non-null      float64\n",
      " 26  OBPM    20797 non-null  float64\n",
      " 27  DBPM    20797 non-null  float64\n",
      " 28  BPM     20797 non-null  float64\n",
      " 29  VORP    20797 non-null  float64\n",
      " 30  FG      24624 non-null  float64\n",
      " 31  FGA     24624 non-null  float64\n",
      " 32  FG%     24525 non-null  float64\n",
      " 33  3P      18927 non-null  float64\n",
      " 34  3PA     18927 non-null  float64\n",
      " 35  3P%     15416 non-null  float64\n",
      " 36  2P      24624 non-null  float64\n",
      " 37  2PA     24624 non-null  float64\n",
      " 38  2P%     24496 non-null  float64\n",
      " 39  eFG%    24525 non-null  float64\n",
      " 40  FT      24624 non-null  float64\n",
      " 41  FTA     24624 non-null  float64\n",
      " 42  FT%     23766 non-null  float64\n",
      " 43  ORB     20797 non-null  float64\n",
      " 44  DRB     20797 non-null  float64\n",
      " 45  TRB     24312 non-null  float64\n",
      " 46  AST     24624 non-null  float64\n",
      " 47  STL     20797 non-null  float64\n",
      " 48  BLK     20797 non-null  float64\n",
      " 49  TOV     19645 non-null  float64\n",
      " 50  PF      24624 non-null  float64\n",
      " 51  PTS     24624 non-null  float64\n",
      "dtypes: float64(49), object(3)\n",
      "memory usage: 9.8+ MB\n"
     ]
    }
   ],
   "source": [
    "stats.info()"
   ]
  },
  {
   "cell_type": "markdown",
   "id": "4445b767-2e22-48e7-908a-971539e5ab22",
   "metadata": {},
   "source": [
    "### This Section is adding new features to the dataset including MVPs, Team championships, and Finals MVPs"
   ]
  },
  {
   "cell_type": "markdown",
   "id": "08c809fe-3a8a-4e94-9413-a9ec3cbd29e1",
   "metadata": {},
   "source": [
    "- #### This is a list of the players in the dataset who have won a MVP during their career, and below is a function that was created in order to add a column in for each time the player won the MVP"
   ]
  },
  {
   "cell_type": "code",
   "execution_count": 8,
   "id": "d0066624-d3b4-49dd-9d04-9dfc80a1a792",
   "metadata": {},
   "outputs": [],
   "source": [
    "mvp_players = {'Bob Pettit*': [1956, 1959],\n",
    "                  'Bob Cousy*': [1957],\n",
    "                  'Bill Russell*': [1958, 1961, 1962, 1963, 1965],\n",
    "                  'Wilt Chamberlain*': [1960, 1966, 1967, 1968],\n",
    "                  'Oscar Robertson*': [1964],\n",
    "                  'Wes Unseld*': [1969],\n",
    "                  'Willis Reed*': [1970],\n",
    "                  'Kareem Abdul-Jabbar*': [1971, 1972, 1974, 1976, 1977, 1980],\n",
    "                  'Dave Cowens*': [1973],\n",
    "                  'Bob McAdoo*': [1975],\n",
    "                  'Bill Walton*': [1978],\n",
    "                  'Moses Malone*': [1979, 1982, 1983],\n",
    "                  'Julius Erving*': [1981],\n",
    "                  'Larry Bird*': [1984, 1985, 1986],\n",
    "                  'Magic Johnson*': [1987, 1989, 1990],\n",
    "                  'Michael Jordan*': [1988, 1991, 1992, 1996, 1998],\n",
    "                  'Charles Barkley*': [1993],\n",
    "                  'Hakeem Olajuwon*': [1994],\n",
    "                  'David Robinson*': [1995],\n",
    "                  'Karl Malone*': [1997, 1999],\n",
    "                  'Shaquille O\\'Neal*': [2000],\n",
    "                  'Allen Iverson*': [2001],\n",
    "                  'Tim Duncan': [2002, 2003],\n",
    "                  'Kevin Garnett': [2004],\n",
    "                  'Steve Nash': [2005, 2006],\n",
    "                  'Dirk Nowitzki': [2007],\n",
    "                  'Kobe Bryant': [2008],\n",
    "                  'LeBron James': [2009, 2010, 2012, 2013],\n",
    "                  'Derrick Rose': [2011],\n",
    "                  'Kevin Durant': [2014],\n",
    "                  'Stephen Curry': [2015, 2016],\n",
    "                  'Russell Westbrook': [2017],\n",
    "                  'James Harden': [2018]}"
   ]
  },
  {
   "cell_type": "code",
   "execution_count": 9,
   "id": "d7777f8c-6d77-49c8-ae7b-c81595191357",
   "metadata": {},
   "outputs": [],
   "source": [
    "stats['MVP'] = 0\n",
    "for i, row in stats.iterrows():\n",
    "    for k, v in mvp_players.items():\n",
    "        for year in v:\n",
    "            if row['Player'] != k:\n",
    "                break\n",
    "            elif(row['Year'] == year) & (row['Player'] == k):\n",
    "                stats.loc[i, 'MVP'] = 1\n",
    "                break"
   ]
  },
  {
   "cell_type": "markdown",
   "id": "a5b3eb48-c241-4a2a-9523-520f0c28699f",
   "metadata": {},
   "source": [
    "- #### This is a list of all of the teams that won Championships from 1947 to 2018 and a function below that will take each team that won a championship and let each player that was on that team that year have credit for that championship, the column will be called 'rings'"
   ]
  },
  {
   "cell_type": "code",
   "execution_count": 10,
   "id": "832cdd6e-ab8f-481a-8f8a-d29b8ad656f5",
   "metadata": {},
   "outputs": [],
   "source": [
    "teams_champions = {'BOS': [1957, 1959, 1960, 1961, 1962, 1963, 1964, 1965, 1966, 1968, 1969, 1974, 1976, 1981, 1984, 1986, 2008],\n",
    "                  'LAL': [1972, 1980, 1982, 1985, 1987, 1988, 2000, 2001, 2002, 2009, 2010],\n",
    "                  'MNL': [1949, 1950, 1952, 1953, 1954],\n",
    "                  'CHI': [1991, 1992, 1993, 1996, 1997, 1998],\n",
    "                  'GSW': [1975, 2015, 2017, 2018],\n",
    "                  'PHW': [1947, 1956],\n",
    "                  'SAS': [1999, 2003, 2005, 2007, 2014],\n",
    "                  'DET': [1989, 1990, 2004],\n",
    "                  'MIA': [2006, 2012, 2013],\n",
    "                  'PHI': [1967, 1983],\n",
    "                  'SYR': [1955],\n",
    "                  'HOU': [1994, 1995],\n",
    "                  'NYK': [1970, 1973],\n",
    "                  'STL': [1958],\n",
    "                  'BLB': [1948],\n",
    "                  'CLE': [2016],\n",
    "                  'DAL': [2011],\n",
    "                  'MIL': [1971],\n",
    "                  'SEA': [1979],\n",
    "                  'POR': [1977],\n",
    "                  'ROC': [1951],\n",
    "                  'WSB': [1978]}"
   ]
  },
  {
   "cell_type": "code",
   "execution_count": 11,
   "id": "73222480-d3f0-4cbc-b5a1-6384141aa4ab",
   "metadata": {},
   "outputs": [],
   "source": [
    "stats['rings'] = 0\n",
    "for i, row in stats.iterrows():\n",
    "    for k, v in teams_champions.items():\n",
    "        for year in v:\n",
    "            if row['Tm'] != k:\n",
    "                break\n",
    "            elif(row['Year'] == year) & (row['Tm'] == k):\n",
    "                stats.loc[i, 'rings'] = 1\n",
    "                break"
   ]
  },
  {
   "cell_type": "markdown",
   "id": "83c2e8b7-9913-4153-b096-73c3276b0832",
   "metadata": {},
   "source": [
    "- #### This the list of all of the players that have won a Finals MVP, so not only have they won a championship but they are also the finals mvp / and below this dictionary is a function that will create a column for the number of times each player has won a finals mvp"
   ]
  },
  {
   "cell_type": "code",
   "execution_count": 12,
   "id": "26711708-82fd-4550-95c3-0bc899109952",
   "metadata": {},
   "outputs": [],
   "source": [
    "finals_mvp = {'Jerry West*': [1969],\n",
    "               'Willis Reed*': [1970, 1973],\n",
    "               'Micheal Jordan*': [1991, 1992, 1993, 1996, 1997, 1998],\n",
    "               'Lebron James*': [2012, 2013, 2016],\n",
    "                 'Magic Johnson*': [1980, 1982, 1987],\n",
    "                 'Shaquille O\\'Neal*': [2000, 2001, 2002],\n",
    "                 'Tim Duncan': [1999, 2003, 2005],\n",
    "                 'Kareem Abdul-Jabbar*': [1971, 1985],\n",
    "                 'Larry Bird*': [1984, 1986],\n",
    "                 'Hakeem Olajuwon*': [1994, 1995],\n",
    "                 'Kobe Bryant': [2009, 2010],\n",
    "                 'Kevin Durant': [2017, 2018],\n",
    "                 'Kawhi Leonard': [2014], \n",
    "                 'Wilt Chamberlain*': [1972],\n",
    "                 'John Havlicek*': [1974],\n",
    "                 'Rick Barry': [1975], \n",
    "                 'Jo Jo White*': [1976], \n",
    "                 'Bill Walton*': [1977],\n",
    "                 'Wes Unseld*': [1978],\n",
    "                 'Dennis Johnson*': [1979],\n",
    "                 'Cedric Maxwell': [1981], \n",
    "                 'Moses Malone*': [1983],\n",
    "                 'James Worthy*': [1988],\n",
    "                 'Joe Dumars*': [1989],\n",
    "                 'Isiah Thomas*': [1990],\n",
    "                 'Chauncey Billups': [2004],\n",
    "                 'Dwayne Wade': [2006],\n",
    "                 'Tony Parker': [2007],\n",
    "                 'Paul Pierce': [2008],\n",
    "                 'Dirk Nowitzki': [2011],\n",
    "                 'Andre Iguodala': [2015]}"
   ]
  },
  {
   "cell_type": "code",
   "execution_count": 13,
   "id": "83572ed9-f8b0-4dec-90a1-06ee2d8b8eef",
   "metadata": {},
   "outputs": [],
   "source": [
    "stats['finals_mvp'] = 0\n",
    "for i, row in stats.iterrows():\n",
    "    for k, v in finals_mvp.items():\n",
    "        for year in v:\n",
    "            if row['Player'] != k:\n",
    "                break\n",
    "            elif(row['Year'] == year) & (row['Player'] == k):\n",
    "                stats.loc[i, 'finals_mvp'] = 1\n",
    "                break"
   ]
  },
  {
   "cell_type": "markdown",
   "id": "bd02b755-9667-452f-b28f-5cbb605edf34",
   "metadata": {},
   "source": [
    "## This portion of my notebook is where I manually used multiple groupby functions to create a career totals dataframe for all of the players in the dataset"
   ]
  },
  {
   "cell_type": "markdown",
   "id": "dab7b350-4ae2-426a-8f6b-e6effe150f50",
   "metadata": {},
   "source": [
    "- #### Here is where I have created a column for seasons, positions, and teams for each player using simplistic groupby functions and simply copying one column from the previous dataframe"
   ]
  },
  {
   "cell_type": "code",
   "execution_count": 14,
   "id": "bd1d10ca-a71a-4ab4-af0d-7dfe89fe7a94",
   "metadata": {},
   "outputs": [],
   "source": [
    "totals = stats.groupby('Player').count()['Year']\n",
    "totals = pd.DataFrame(totals)\n",
    "totals.reset_index(inplace=True)"
   ]
  },
  {
   "cell_type": "code",
   "execution_count": 15,
   "id": "772ddfeb-b224-41a8-8303-ef7a3dd881bc",
   "metadata": {},
   "outputs": [],
   "source": [
    "totals['Seasons'] = totals['Year']\n",
    "totals = totals.drop(columns=['Year'], axis=1)"
   ]
  },
  {
   "cell_type": "code",
   "execution_count": 16,
   "id": "b7f233e6-0849-4878-b243-8226694b7631",
   "metadata": {},
   "outputs": [],
   "source": [
    "totals['position'] = stats.Pos"
   ]
  },
  {
   "cell_type": "code",
   "execution_count": 17,
   "id": "4f87086c-4bb1-4af3-be5d-a680bb43d2f8",
   "metadata": {},
   "outputs": [],
   "source": [
    "totals.columns = totals.columns.str.lower()"
   ]
  },
  {
   "cell_type": "code",
   "execution_count": 18,
   "id": "ae212d9a-e108-4a7e-be8b-74dc7d59b032",
   "metadata": {},
   "outputs": [],
   "source": [
    "totals['team'] = stats.Tm"
   ]
  },
  {
   "cell_type": "markdown",
   "id": "37c3deb6-ae73-45dc-8d1f-def76d63b6f3",
   "metadata": {},
   "source": [
    "- #### Here is where I begin using the same steps for each column taking the sum of columns that need to be added together and the mean of the columns that need to be averaged in order to get the columns that we desired in our dataset\n",
    "- #### Which are as follows: 'games_played', 'player_efficiency_rating', 'shooting_percent', 'field_goals', 'fg_percent', '3p_made', '3p_percentage', '2p_made', '2p_percentage', 'free_throws_made', 'ft_percentage', 'offensive_rebounds', 'defensive_rebounds', 'total_rebounds', 'total_assists', 'total_steals', 'total_blocks', 'total_turnovers', 'total_personal_fouls', 'total_points', 'total_mvp', 'total_rings', and 'total_finals_mvp'."
   ]
  },
  {
   "cell_type": "code",
   "execution_count": 19,
   "id": "995dca76-b843-47fc-8f7d-5f042a53864a",
   "metadata": {},
   "outputs": [],
   "source": [
    "games = stats.groupby('Player').sum()['G']\n",
    "games = pd.DataFrame(games)\n",
    "games.reset_index(inplace=True)\n",
    "games.columns = games.columns.str.replace(\" \", \"_\").str.lower()\n",
    "totals = pd.merge(games, totals, how='left', on='player')\n",
    "totals.rename(columns= {'g': 'games_played'}, inplace=True)\n"
   ]
  },
  {
   "cell_type": "code",
   "execution_count": 20,
   "id": "7ade4e38-7aad-4b4d-b7c4-ac0de0315209",
   "metadata": {},
   "outputs": [],
   "source": [
    "player_efficiency = stats.groupby('Player').mean()['PER']\n",
    "player_efficiency = pd.DataFrame(player_efficiency)\n",
    "player_efficiency.reset_index(inplace=True)\n",
    "player_efficiency.columns = player_efficiency.columns.str.replace(\" \", \"_\").str.lower()\n",
    "totals = pd.merge(player_efficiency, totals, how='left', on='player')\n",
    "totals.rename(columns = {'per': 'player_efficiency_rating'}, inplace=True)\n"
   ]
  },
  {
   "cell_type": "code",
   "execution_count": 21,
   "id": "82dd07d5-fdb1-4d93-b305-bab13c96d95e",
   "metadata": {},
   "outputs": [],
   "source": [
    "shooting_percent = stats.groupby('Player').mean()['TS%']\n",
    "shooting_percent = pd.DataFrame(shooting_percent)\n",
    "shooting_percent.reset_index(inplace=True)\n",
    "shooting_percent.columns = shooting_percent.columns.str.replace(\" \", \"_\").str.lower()\n",
    "totals = pd.merge(shooting_percent, totals, how='left', on='player')\n",
    "totals.rename(columns = {'ts%': 'shooting_percent'}, inplace=True)\n"
   ]
  },
  {
   "cell_type": "code",
   "execution_count": 22,
   "id": "54c39dbb-8b16-4c21-81ee-f5c0745eeb5b",
   "metadata": {},
   "outputs": [],
   "source": [
    "field_goals = stats.groupby('Player').sum()['FG']\n",
    "field_goals = pd.DataFrame(field_goals)\n",
    "field_goals.reset_index(inplace=True)\n",
    "field_goals.columns = field_goals.columns.str.replace(\" \", \"_\").str.lower()\n",
    "totals = pd.merge(field_goals, totals, how='left', on='player')\n",
    "totals.rename(columns = {'fg': 'field_goals'}, inplace=True)\n"
   ]
  },
  {
   "cell_type": "code",
   "execution_count": 23,
   "id": "764a6dae-48d0-4013-88ae-9c265bbab86b",
   "metadata": {},
   "outputs": [],
   "source": [
    "fg_percent = stats.groupby('Player').mean()['FG%']\n",
    "fg_percent = pd.DataFrame(fg_percent)\n",
    "fg_percent.reset_index(inplace=True)\n",
    "fg_percent.columns = fg_percent.columns.str.replace(\" \", \"_\").str.lower()\n",
    "totals = pd.merge(fg_percent, totals, how='left', on='player')\n",
    "totals.rename(columns = {'fg%': 'fg_percent'}, inplace=True)\n"
   ]
  },
  {
   "cell_type": "code",
   "execution_count": 24,
   "id": "a6a5ecd6-9f00-48e1-b94e-117ae507690b",
   "metadata": {},
   "outputs": [],
   "source": [
    "three_p_made = stats.groupby('Player').sum()['3P']\n",
    "three_p_made = pd.DataFrame(three_p_made)\n",
    "three_p_made.reset_index(inplace=True)\n",
    "three_p_made.columns = three_p_made.columns.str.replace(\" \", \"_\").str.lower()\n",
    "totals = pd.merge(three_p_made, totals, how='left', on='player')\n",
    "totals.rename(columns = {'3p': '3p_made'}, inplace=True)\n"
   ]
  },
  {
   "cell_type": "code",
   "execution_count": 25,
   "id": "7736fe14-c18c-4db8-9302-9edc493c2fff",
   "metadata": {},
   "outputs": [],
   "source": [
    "three_p_per = stats.groupby('Player').mean()['3P%']\n",
    "three_p_per = pd.DataFrame(three_p_per)\n",
    "three_p_per.reset_index(inplace=True)\n",
    "three_p_per.columns = three_p_per.columns.str.replace(\" \", \"_\").str.lower()\n",
    "totals = pd.merge(three_p_per, totals, how='left', on='player')\n",
    "totals.rename(columns = {'3p%': '3p_percentage'}, inplace=True)\n"
   ]
  },
  {
   "cell_type": "code",
   "execution_count": 26,
   "id": "f9f3e7c4-880f-4647-b0e7-25060a28b901",
   "metadata": {},
   "outputs": [],
   "source": [
    "two_p_made = stats.groupby('Player').sum()['2P']\n",
    "two_p_made = pd.DataFrame(two_p_made)\n",
    "two_p_made.reset_index(inplace=True)\n",
    "two_p_made.columns = two_p_made.columns.str.replace(\" \", \"_\").str.lower()\n",
    "totals = pd.merge(two_p_made, totals, how='left', on='player')\n",
    "totals.rename(columns = {'2p': '2p_made'}, inplace=True)\n"
   ]
  },
  {
   "cell_type": "code",
   "execution_count": 27,
   "id": "5e347cee-65f7-4167-b9ea-746eb6eb301e",
   "metadata": {},
   "outputs": [],
   "source": [
    "two_p_per = stats.groupby('Player').mean()['2P%']\n",
    "two_p_per = pd.DataFrame(two_p_per)\n",
    "two_p_per.reset_index(inplace=True)\n",
    "two_p_per.columns = two_p_per.columns.str.replace(\" \", \"_\").str.lower()\n",
    "totals = pd.merge(two_p_per, totals, how='left', on='player')\n",
    "totals.rename(columns = {'2p%': '2p_percentage'}, inplace=True)\n"
   ]
  },
  {
   "cell_type": "code",
   "execution_count": 28,
   "id": "edb709ec-f6c8-45a5-a93a-726d61a68e7b",
   "metadata": {},
   "outputs": [],
   "source": [
    "free_throws_made = stats.groupby('Player').sum()['FT']\n",
    "free_throws_made = pd.DataFrame(free_throws_made)\n",
    "free_throws_made.reset_index(inplace=True)\n",
    "free_throws_made.columns = free_throws_made.columns.str.replace(\" \", \"_\").str.lower()\n",
    "totals = pd.merge(free_throws_made, totals, how='left', on='player')\n",
    "totals.rename(columns = {'ft': 'free_throws_made'}, inplace=True)\n"
   ]
  },
  {
   "cell_type": "code",
   "execution_count": 29,
   "id": "f7e45306-763a-49c6-ae36-dfe9d6f25b43",
   "metadata": {},
   "outputs": [],
   "source": [
    "free_throw_per = stats.groupby('Player').mean()['FT%']\n",
    "free_throw_per = pd.DataFrame(free_throw_per)\n",
    "free_throw_per.reset_index(inplace=True)\n",
    "free_throw_per.columns = free_throw_per.columns.str.replace(\" \", \"_\").str.lower()\n",
    "totals = pd.merge(free_throw_per, totals, how='left', on='player')\n",
    "totals.rename(columns = {'ft%': 'ft_percentage'}, inplace=True)\n"
   ]
  },
  {
   "cell_type": "code",
   "execution_count": 30,
   "id": "87a7e3b6-ab27-4e11-a530-c5639f53c8fe",
   "metadata": {},
   "outputs": [],
   "source": [
    "offensive_rebounds = stats.groupby('Player').sum()['ORB']\n",
    "offensive_rebounds = pd.DataFrame(offensive_rebounds)\n",
    "offensive_rebounds.reset_index(inplace=True)\n",
    "offensive_rebounds.columns = offensive_rebounds.columns.str.replace(\" \", \"_\").str.lower()\n",
    "totals = pd.merge(offensive_rebounds, totals, how='left', on='player')\n",
    "totals.rename(columns = {'orb': 'offensive_rebounds'}, inplace=True)\n"
   ]
  },
  {
   "cell_type": "code",
   "execution_count": 31,
   "id": "81222e7a-7928-4f3b-b668-f2884b115452",
   "metadata": {},
   "outputs": [],
   "source": [
    "defensive_rebounds = stats.groupby('Player').sum()['DRB']\n",
    "defensive_rebounds = pd.DataFrame(defensive_rebounds)\n",
    "defensive_rebounds.reset_index(inplace=True)\n",
    "defensive_rebounds.columns = defensive_rebounds.columns.str.replace(\" \", \"_\").str.lower()\n",
    "totals = pd.merge(defensive_rebounds, totals, how='left', on='player')\n",
    "totals.rename(columns = {'drb': 'defensive_rebounds'}, inplace=True)\n"
   ]
  },
  {
   "cell_type": "code",
   "execution_count": 32,
   "id": "dcc082be-da1a-4e9c-8f58-db6368920529",
   "metadata": {},
   "outputs": [],
   "source": [
    "total_rebounds = stats.groupby('Player').sum()['TRB']\n",
    "total_rebounds = pd.DataFrame(total_rebounds)\n",
    "total_rebounds.reset_index(inplace=True)\n",
    "total_rebounds.columns = total_rebounds.columns.str.replace(\" \", \"_\").str.lower()\n",
    "totals = pd.merge(total_rebounds, totals, how='left', on='player')\n",
    "totals.rename(columns = {'trb': 'total_rebounds'}, inplace=True)\n"
   ]
  },
  {
   "cell_type": "code",
   "execution_count": 33,
   "id": "a49ceaee-31d7-4b4d-ab72-7093c430c4fb",
   "metadata": {},
   "outputs": [],
   "source": [
    "total_assists = stats.groupby('Player').sum()['AST']\n",
    "total_assists = pd.DataFrame(total_assists)\n",
    "total_assists.reset_index(inplace=True)\n",
    "total_assists.columns = total_assists.columns.str.replace(\" \", \"_\").str.lower()\n",
    "totals = pd.merge(total_assists, totals, how='left', on='player')\n",
    "totals.rename(columns = {'ast': 'total_assists'}, inplace=True)\n"
   ]
  },
  {
   "cell_type": "code",
   "execution_count": 34,
   "id": "404d3bba-92a0-4a63-9b36-56bf30bcd1b3",
   "metadata": {},
   "outputs": [],
   "source": [
    "total_steals = stats.groupby('Player').sum()['STL']\n",
    "total_steals = pd.DataFrame(total_steals)\n",
    "total_steals.reset_index(inplace=True)\n",
    "total_steals.columns = total_steals.columns.str.replace(\" \", \"_\").str.lower()\n",
    "totals = pd.merge(total_steals, totals, how='left', on='player')\n",
    "totals.rename(columns = {'stl': 'total_steals'}, inplace=True)\n"
   ]
  },
  {
   "cell_type": "code",
   "execution_count": 35,
   "id": "05c3006c-b2ac-48e0-92b4-432f88ea132b",
   "metadata": {},
   "outputs": [],
   "source": [
    "total_blocks = stats.groupby('Player').sum()['BLK']\n",
    "total_blocks = pd.DataFrame(total_blocks)\n",
    "total_blocks.reset_index(inplace=True)\n",
    "total_blocks.columns = total_blocks.columns.str.replace(\" \", \"_\").str.lower()\n",
    "totals = pd.merge(total_blocks, totals, how='left', on='player')\n",
    "totals.rename(columns = {'blk': 'total_blocks'}, inplace=True)\n"
   ]
  },
  {
   "cell_type": "code",
   "execution_count": 36,
   "id": "1369c646-aa58-4b00-98b8-c00a471879f5",
   "metadata": {},
   "outputs": [],
   "source": [
    "total_turnovers = stats.groupby('Player').sum()['TOV']\n",
    "total_turnovers = pd.DataFrame(total_turnovers)\n",
    "total_turnovers.reset_index(inplace=True)\n",
    "total_turnovers.columns = total_turnovers.columns.str.replace(\" \", \"_\").str.lower()\n",
    "totals = pd.merge(total_turnovers, totals, how='left', on='player')\n",
    "totals.rename(columns = {'tov': 'total_turnovers'}, inplace=True)\n"
   ]
  },
  {
   "cell_type": "code",
   "execution_count": 37,
   "id": "a9023063-1a2c-4cff-9b95-8e459c8f6bc4",
   "metadata": {},
   "outputs": [],
   "source": [
    "total_personal_fouls = stats.groupby('Player').sum()['PF']\n",
    "total_personal_fouls = pd.DataFrame(total_personal_fouls)\n",
    "total_personal_fouls.reset_index(inplace=True)\n",
    "total_personal_fouls.columns = total_personal_fouls.columns.str.replace(\" \", \"_\").str.lower()\n",
    "totals = pd.merge(total_personal_fouls, totals, how='left', on='player')\n",
    "totals.rename(columns = {'pf': 'total_personal_fouls'}, inplace=True)\n"
   ]
  },
  {
   "cell_type": "code",
   "execution_count": 38,
   "id": "3728591b-85d6-498e-abc9-73aa0c2b2a0c",
   "metadata": {},
   "outputs": [],
   "source": [
    "total_points = stats.groupby('Player').sum()['PTS']\n",
    "total_points = pd.DataFrame(total_points)\n",
    "total_points.reset_index(inplace=True)\n",
    "total_points.columns = total_points.columns.str.replace(\" \", \"_\").str.lower()\n",
    "totals = pd.merge(total_points, totals, how='left', on='player')\n",
    "totals.rename(columns = {'pts': 'total_points'}, inplace=True)\n"
   ]
  },
  {
   "cell_type": "code",
   "execution_count": 39,
   "id": "fb34a2a2-1e06-48fa-ad91-cb13f163d74d",
   "metadata": {},
   "outputs": [],
   "source": [
    "total_mvp = stats.groupby('Player').sum()['MVP']\n",
    "total_mvp = pd.DataFrame(total_mvp)\n",
    "total_mvp.reset_index(inplace=True)\n",
    "total_mvp.columns = total_mvp.columns.str.replace(\" \", \"_\").str.lower()\n",
    "totals = pd.merge(total_mvp, totals, how='left', on='player')\n",
    "totals.rename(columns = {'MVP': 'total_mvp'}, inplace=True)\n"
   ]
  },
  {
   "cell_type": "code",
   "execution_count": 40,
   "id": "379d0e3f-f7d9-4c22-a295-e6480d118f22",
   "metadata": {},
   "outputs": [],
   "source": [
    "total_rings = stats.groupby('Player').sum()['rings']\n",
    "total_rings = pd.DataFrame(total_rings)\n",
    "total_rings.reset_index(inplace=True)\n",
    "total_rings.columns = total_rings.columns.str.replace(\" \", \"_\").str.lower()\n",
    "totals = pd.merge(total_rings, totals, how='left', on='player')\n",
    "totals.rename(columns = {'rings': 'total_rings'}, inplace=True)\n"
   ]
  },
  {
   "cell_type": "code",
   "execution_count": 41,
   "id": "70b2457b-daf5-48a3-95e0-70b2324daef8",
   "metadata": {},
   "outputs": [],
   "source": [
    "total_finals_mvp = stats.groupby('Player').sum()['finals_mvp']\n",
    "total_finals_mvp = pd.DataFrame(total_finals_mvp)\n",
    "total_finals_mvp.reset_index(inplace=True)\n",
    "total_finals_mvp.columns = total_finals_mvp.columns.str.replace(\" \", \"_\").str.lower()\n",
    "totals = pd.merge(total_finals_mvp, totals, how='left', on='player')\n",
    "totals.rename(columns = {'finals_mvp': 'total_finals_mvp'}, inplace=True)\n"
   ]
  },
  {
   "cell_type": "markdown",
   "id": "9a2bf99e-e1f2-4d91-9059-2bf1fd4851d0",
   "metadata": {},
   "source": [
    "## Here after deliberating with my team we narrowed down the dataset to players who have played two full seasons or more and renamed the dataset to \"hall_of_fame\" which is the final dataframe we will be working with"
   ]
  },
  {
   "cell_type": "code",
   "execution_count": 42,
   "id": "a61e24cf-cc07-448c-b93c-36b6de209c5b",
   "metadata": {},
   "outputs": [],
   "source": [
    "hall_of_fame = totals[totals.games_played >= 164]"
   ]
  },
  {
   "cell_type": "markdown",
   "id": "8ca49168-2c99-41c7-8283-f1d8f9d6b6ef",
   "metadata": {},
   "source": [
    "- #### Here is a function that was created in order to have each player that is a hall of fame be returned with a 1 if they are in the hall of fame and a 0 if they are not"
   ]
  },
  {
   "cell_type": "code",
   "execution_count": 43,
   "id": "59a1836b-363d-4b66-93c5-01fe96e87856",
   "metadata": {},
   "outputs": [],
   "source": [
    "list_of_hall_of_famers = []\n",
    "for i, row in hall_of_fame.iterrows():\n",
    "    if '*' in row['player']:\n",
    "        list_of_hall_of_famers.append(row['player'])\n",
    "list_of_hall_of_famers = list(set(list_of_hall_of_famers))"
   ]
  },
  {
   "cell_type": "code",
   "execution_count": 44,
   "id": "c2d6610a-f87c-492d-9956-7531bd750a91",
   "metadata": {},
   "outputs": [],
   "source": [
    "def is_hall_of_famer(x):\n",
    "    if '*' in x:\n",
    "        return 1\n",
    "    else:\n",
    "        return 0"
   ]
  },
  {
   "cell_type": "code",
   "execution_count": 45,
   "id": "e1274599-52ea-4a31-88f3-806398b09f50",
   "metadata": {},
   "outputs": [],
   "source": [
    "hall_of_fame['HOF'] = hall_of_fame['player'].apply(is_hall_of_famer)"
   ]
  },
  {
   "cell_type": "code",
   "execution_count": 46,
   "id": "0a806640-fe1f-4d48-9fca-e000734bef40",
   "metadata": {},
   "outputs": [],
   "source": [
    "hall_of_fame = hall_of_fame.set_index('player')"
   ]
  },
  {
   "cell_type": "markdown",
   "id": "23ceb25f-dd86-4516-8f17-2dc84cbc000c",
   "metadata": {},
   "source": [
    "- #### Above I set the players names to the index of the dataframe so that we can still access the players names but and we dont lose them in our dataset when we run the train_test_split \n",
    "- #### Below I have run a .corr() function to look at the most correlated values to a player reaching the hall of fame"
   ]
  },
  {
   "cell_type": "code",
   "execution_count": 47,
   "id": "cf6ee79b-4e35-4257-a174-21d7029bf215",
   "metadata": {},
   "outputs": [
    {
     "data": {
      "text/plain": [
       "HOF                         1.000000\n",
       "free_throws_made            0.469877\n",
       "2p_made                     0.443314\n",
       "total_points                0.413747\n",
       "field_goals                 0.409497\n",
       "total_rebounds              0.379603\n",
       "player_efficiency_rating    0.376964\n",
       "total_rings                 0.334376\n",
       "total_personal_fouls        0.307770\n",
       "mvp                         0.289431\n",
       "total_assists               0.280950\n",
       "total_finals_mvp            0.250688\n",
       "games_played                0.215158\n",
       "total_blocks                0.131520\n",
       "defensive_rebounds          0.111382\n",
       "offensive_rebounds          0.108104\n",
       "seasons                     0.102158\n",
       "total_turnovers             0.092802\n",
       "total_steals                0.085595\n",
       "ft_percentage               0.078167\n",
       "fg_percent                  0.076635\n",
       "shooting_percent            0.072490\n",
       "3p_made                     0.055085\n",
       "2p_percentage               0.025016\n",
       "3p_percentage               0.019597\n",
       "Name: HOF, dtype: float64"
      ]
     },
     "execution_count": 47,
     "metadata": {},
     "output_type": "execute_result"
    }
   ],
   "source": [
    "hall_of_fame.corr()['HOF'].map(abs).sort_values(ascending=False)"
   ]
  },
  {
   "cell_type": "markdown",
   "id": "ec172eef-1b83-46a8-887a-f729534e9fae",
   "metadata": {},
   "source": [
    "## Here I am creating new categories that can be used for new comparison to new players for testing my models"
   ]
  },
  {
   "cell_type": "markdown",
   "id": "19f499d3-a6aa-401f-b316-951f07157d2b",
   "metadata": {},
   "source": [
    "- #### the list of the columns that I am creating are as follows: 'points/game', 'fouls/game', 'turnovers/game', 'blocks/game', 'steals/game', 'assists/game', 'rebounds/game', 'offensive_reb/game', and 'defensive_reb/game'"
   ]
  },
  {
   "cell_type": "code",
   "execution_count": 48,
   "id": "ffbc7222-5fa6-49e5-ae18-d38e15eb9f3f",
   "metadata": {},
   "outputs": [],
   "source": [
    "hall_of_fame['points/game'] = hall_of_fame['total_points']/hall_of_fame['games_played']\n",
    "\n"
   ]
  },
  {
   "cell_type": "code",
   "execution_count": 49,
   "id": "ce0a6d8f-3592-4335-a388-7afb435b2687",
   "metadata": {},
   "outputs": [],
   "source": [
    "hall_of_fame['fouls/game'] = hall_of_fame['total_personal_fouls']/hall_of_fame['games_played']\n",
    "\n",
    "\n",
    "\n",
    "\n"
   ]
  },
  {
   "cell_type": "code",
   "execution_count": 50,
   "id": "74a5ea26-f03a-4dc2-a14d-adaf4f27e103",
   "metadata": {},
   "outputs": [],
   "source": [
    "hall_of_fame['turnovers/game'] = hall_of_fame['total_turnovers']/hall_of_fame['games_played']\n",
    "\n",
    "\n",
    "\n"
   ]
  },
  {
   "cell_type": "code",
   "execution_count": 51,
   "id": "958e6146-f766-4d9a-b3c6-81f8d7d42bba",
   "metadata": {},
   "outputs": [],
   "source": [
    "hall_of_fame['blocks/game'] = hall_of_fame['total_blocks']/hall_of_fame['games_played']\n",
    "\n",
    "\n"
   ]
  },
  {
   "cell_type": "code",
   "execution_count": 52,
   "id": "420635e0-673e-47c9-9a84-a39ddc5b0c14",
   "metadata": {},
   "outputs": [],
   "source": [
    "hall_of_fame['steals/game'] = hall_of_fame['total_steals']/hall_of_fame['games_played']\n",
    "\n",
    "\n"
   ]
  },
  {
   "cell_type": "code",
   "execution_count": 53,
   "id": "864b83e5-b8f9-497d-b422-55c0815580d2",
   "metadata": {},
   "outputs": [],
   "source": [
    "hall_of_fame['assists/game'] = hall_of_fame['total_assists']/hall_of_fame['games_played']\n",
    "\n",
    "\n"
   ]
  },
  {
   "cell_type": "code",
   "execution_count": 54,
   "id": "7e4c4bf1-34c3-482a-8e87-92796868c164",
   "metadata": {},
   "outputs": [],
   "source": [
    "hall_of_fame['rebounds/game'] = hall_of_fame['total_rebounds']/hall_of_fame['games_played']\n",
    "\n",
    "\n"
   ]
  },
  {
   "cell_type": "code",
   "execution_count": 55,
   "id": "982c3392-a64d-4219-a05a-51e4a65816ff",
   "metadata": {},
   "outputs": [],
   "source": [
    "hall_of_fame['offensive_reb/game'] = hall_of_fame['offensive_rebounds']/hall_of_fame['games_played']\n",
    "\n",
    "\n"
   ]
  },
  {
   "cell_type": "code",
   "execution_count": 56,
   "id": "5bd6c3c1-d980-42a2-bcad-1255d0800067",
   "metadata": {},
   "outputs": [],
   "source": [
    "hall_of_fame['defensive_reb/game'] = hall_of_fame['defensive_rebounds']/hall_of_fame['games_played']\n",
    "\n",
    "\n"
   ]
  },
  {
   "cell_type": "markdown",
   "id": "5c2a7ee9-053c-4fd1-9ed8-fa0cadcb3ebc",
   "metadata": {},
   "source": [
    "#### Here I am running another .corr() function to look at the correlation of getting into the hall of fame with the new columns that I have created"
   ]
  },
  {
   "cell_type": "code",
   "execution_count": 57,
   "id": "f978a7b4-25ce-41d2-9234-71690109b061",
   "metadata": {},
   "outputs": [
    {
     "data": {
      "text/plain": [
       "HOF                         1.000000\n",
       "free_throws_made            0.469877\n",
       "2p_made                     0.443314\n",
       "points/game                 0.426059\n",
       "total_points                0.413747\n",
       "field_goals                 0.409497\n",
       "total_rebounds              0.379603\n",
       "player_efficiency_rating    0.376964\n",
       "rebounds/game               0.354323\n",
       "total_rings                 0.334376\n",
       "total_personal_fouls        0.307770\n",
       "mvp                         0.289431\n",
       "total_assists               0.280950\n",
       "fouls/game                  0.271832\n",
       "total_finals_mvp            0.250688\n",
       "assists/game                0.234327\n",
       "games_played                0.215158\n",
       "total_blocks                0.131520\n",
       "defensive_rebounds          0.111382\n",
       "offensive_rebounds          0.108104\n",
       "seasons                     0.102158\n",
       "total_turnovers             0.092802\n",
       "total_steals                0.085595\n",
       "ft_percentage               0.078167\n",
       "fg_percent                  0.076635\n",
       "shooting_percent            0.072490\n",
       "3p_made                     0.055085\n",
       "blocks/game                 0.041528\n",
       "steals/game                 0.038911\n",
       "turnovers/game              0.030293\n",
       "2p_percentage               0.025016\n",
       "3p_percentage               0.019597\n",
       "offensive_reb/game          0.013035\n",
       "defensive_reb/game          0.006959\n",
       "Name: HOF, dtype: float64"
      ]
     },
     "execution_count": 57,
     "metadata": {},
     "output_type": "execute_result"
    }
   ],
   "source": [
    "hall_of_fame.corr()['HOF'].map(abs).sort_values(ascending=False)"
   ]
  },
  {
   "cell_type": "markdown",
   "id": "5800f5db-d585-48c9-92e8-530f8467a4d4",
   "metadata": {},
   "source": [
    "## This modeling process begins\n",
    "- #### Here I am conducting a train_test_split and dropping the 14 least correlated statistics and am dropping the categorical variables of team and position and dropping my target out of my X column\n",
    "- #### I have set the target to category of 'HOF' = to y for my train_test_split\n",
    "- #### I have also conducted a validation train_test_split for my models to test their f1_score on"
   ]
  },
  {
   "cell_type": "code",
   "execution_count": 58,
   "id": "ab4e0feb-a00c-4cb4-ac25-e5fa5b8e5b79",
   "metadata": {},
   "outputs": [],
   "source": [
    "X = hall_of_fame.drop(columns=['HOF', 'team', 'position', 'defensive_reb/game', 'offensive_reb/game',\n",
    "              '3p_percentage', '2p_percentage', 'turnovers/game', 'steals/game', 'blocks/game',\n",
    "              '3p_made', 'shooting_percent', 'fg_percent', 'ft_percentage', 'total_steals', \n",
    "              'total_turnovers', 'seasons'], axis=1)\n",
    "y = hall_of_fame['HOF']\n",
    "X_train, X_test, y_train, y_test = train_test_split(X, y, test_size = .25, random_state=42, stratify=y)\n"
   ]
  },
  {
   "cell_type": "code",
   "execution_count": 59,
   "id": "163e98b9-d3f9-4858-9a3b-c8c85276ff02",
   "metadata": {},
   "outputs": [],
   "source": [
    "X_tr_val, X_test_val, y_tr_val, y_test_val = train_test_split(X_train, y_train, test_size=.25, random_state=42, stratify=y_train)\n",
    "\n"
   ]
  },
  {
   "cell_type": "markdown",
   "id": "9e75e160-7c8b-496a-a709-3c63f91ea2d0",
   "metadata": {},
   "source": [
    "#### Here I am checking for what columns in my training set have null values"
   ]
  },
  {
   "cell_type": "code",
   "execution_count": 60,
   "id": "95e35d9b-6241-4240-9671-982546da9f80",
   "metadata": {},
   "outputs": [
    {
     "data": {
      "text/plain": [
       "total_finals_mvp            0\n",
       "total_rings                 0\n",
       "mvp                         0\n",
       "total_points                0\n",
       "total_personal_fouls        0\n",
       "total_blocks                0\n",
       "total_assists               0\n",
       "total_rebounds              0\n",
       "defensive_rebounds          0\n",
       "offensive_rebounds          0\n",
       "free_throws_made            0\n",
       "2p_made                     0\n",
       "field_goals                 0\n",
       "player_efficiency_rating    5\n",
       "games_played                0\n",
       "points/game                 0\n",
       "fouls/game                  0\n",
       "assists/game                0\n",
       "rebounds/game               0\n",
       "dtype: int64"
      ]
     },
     "execution_count": 60,
     "metadata": {},
     "output_type": "execute_result"
    }
   ],
   "source": [
    "X_train.isna().sum()"
   ]
  },
  {
   "cell_type": "markdown",
   "id": "cba3e706-b3a9-4389-b107-df4ed45319c5",
   "metadata": {},
   "source": [
    "#### Applying a SimpleImputer() with the median strategy to replace the null values in the 'player_efficiency_rating' column with the median of the other players in the dataset"
   ]
  },
  {
   "cell_type": "code",
   "execution_count": 61,
   "id": "999811f4-db6b-469e-bbf7-b4569449ff66",
   "metadata": {},
   "outputs": [
    {
     "data": {
      "text/plain": [
       "SimpleImputer(strategy='median')"
      ]
     },
     "execution_count": 61,
     "metadata": {},
     "output_type": "execute_result"
    }
   ],
   "source": [
    "imputer = SimpleImputer(strategy='median')\n",
    "imputer.fit(X_train)"
   ]
  },
  {
   "cell_type": "markdown",
   "id": "d8c3aaea-27df-4324-a684-1732e53f120e",
   "metadata": {},
   "source": [
    "#### Her I am transforming the X_train and X_val to replace the null values of these columns with the median"
   ]
  },
  {
   "cell_type": "code",
   "execution_count": 62,
   "id": "43df6676-5529-4059-bb7a-40415ba696a5",
   "metadata": {},
   "outputs": [],
   "source": [
    "X_train_imputed = pd.DataFrame(imputer.transform(X_train), columns=X.columns)\n",
    "X_val_imputed = pd.DataFrame(imputer.transform(X_tr_val), columns=X.columns)\n",
    "\n"
   ]
  },
  {
   "cell_type": "markdown",
   "id": "b2f3e695-eb68-4247-a766-1c596cb6ad5f",
   "metadata": {},
   "source": [
    "#### Implementing the StandardScaler in order to scale the data to a more usable format"
   ]
  },
  {
   "cell_type": "code",
   "execution_count": 63,
   "id": "e0d4fd1c-4807-4e36-82c5-8562921ba295",
   "metadata": {},
   "outputs": [
    {
     "data": {
      "text/plain": [
       "StandardScaler()"
      ]
     },
     "execution_count": 63,
     "metadata": {},
     "output_type": "execute_result"
    }
   ],
   "source": [
    "scaler = StandardScaler()\n",
    "scaler.fit(X_train)"
   ]
  },
  {
   "cell_type": "markdown",
   "id": "2e274905-e816-4170-9447-60fe41546511",
   "metadata": {},
   "source": [
    "#### Here I am transforming the already imputed variables with the standard scaler"
   ]
  },
  {
   "cell_type": "code",
   "execution_count": 64,
   "id": "4c1333b8-6ca4-429c-9461-e80026a5c01c",
   "metadata": {},
   "outputs": [],
   "source": [
    "X_train_scaled = pd.DataFrame(scaler.transform(X_train_imputed), columns=X.columns)\n",
    "X_val_scaled = pd.DataFrame(scaler.transform(X_val_imputed), columns=X.columns)\n",
    "\n"
   ]
  },
  {
   "cell_type": "markdown",
   "id": "7e59d92d-7e76-407e-9154-c3d41df9c3fb",
   "metadata": {},
   "source": [
    "#### This is a modeling function that is designed to be able to pass in the model that you have instantiated along with the other variables given to return the accuracy and precision scores of the model"
   ]
  },
  {
   "cell_type": "code",
   "execution_count": 65,
   "id": "caf45189-8bbb-4572-ba33-afe7d6417742",
   "metadata": {},
   "outputs": [],
   "source": [
    "def modeling_function(model, X_train, y_train, X_val, y_val):\n",
    "\n",
    "\n",
    "    model.fit(X_train, y_train)\n",
    "\n",
    "    train_preds = model.predict(X_train)\n",
    "    val_preds = model.predict(X_val)\n",
    "\n",
    "\n",
    "    print('Training accuracy_score: ', accuracy_score(y_train, train_preds))\n",
    "    print('Validation accuracy_score: ', accuracy_score(y_val, val_preds))\n",
    "    print('Training precision_score: ', precision_score(y_train, train_preds))\n",
    "    print('Validation precision_score: ', precision_score(y_val, val_preds))\n",
    "\n",
    "\n",
    "    return model"
   ]
  },
  {
   "cell_type": "markdown",
   "id": "4408b6ce-c170-42b2-9878-1d42b426fce0",
   "metadata": {},
   "source": [
    "## Base Model"
   ]
  },
  {
   "cell_type": "code",
   "execution_count": 66,
   "id": "fb0d3992-162d-4e8d-9e36-bf478becf864",
   "metadata": {},
   "outputs": [],
   "source": [
    "logreg1 = LogisticRegression()"
   ]
  },
  {
   "cell_type": "markdown",
   "id": "eca3f0eb-c845-4586-be4b-e0d3e03b6c43",
   "metadata": {},
   "source": [
    "- #### Here I ran the modeling function that I created on my logistic regression that i instantiated above"
   ]
  },
  {
   "cell_type": "code",
   "execution_count": 67,
   "id": "dd6ee13d-3707-446d-89a4-c479d214d614",
   "metadata": {},
   "outputs": [
    {
     "name": "stdout",
     "output_type": "stream",
     "text": [
      "Training accuracy_score:  0.9661246612466124\n",
      "Validation accuracy_score:  0.9683830171635049\n",
      "Training precision_score:  0.8412698412698413\n",
      "Validation precision_score:  0.8571428571428571\n"
     ]
    },
    {
     "data": {
      "text/plain": [
       "LogisticRegression()"
      ]
     },
     "execution_count": 67,
     "metadata": {},
     "output_type": "execute_result"
    }
   ],
   "source": [
    "modeling_function(logreg1, X_train_scaled, y_train, X_val_scaled, y_tr_val)"
   ]
  },
  {
   "cell_type": "markdown",
   "id": "242cfd65-82d3-43a5-84ee-5e3547910a70",
   "metadata": {},
   "source": [
    "- #### Below are two confusion matrix's that have been plotted against my X_train_scaled and y_train variables for the first one and then the X_val_scaled and y_tr_val for the second one "
   ]
  },
  {
   "cell_type": "code",
   "execution_count": 68,
   "id": "f1d6f6ff-354e-42b0-83df-ddc8c4dbf253",
   "metadata": {},
   "outputs": [
    {
     "data": {
      "text/plain": [
       "<sklearn.metrics._plot.confusion_matrix.ConfusionMatrixDisplay at 0x16a8c1610>"
      ]
     },
     "execution_count": 68,
     "metadata": {},
     "output_type": "execute_result"
    },
    {
     "data": {
      "image/png": "[encoded data removed]",
      "text/plain": [
       "<Figure size 432x288 with 2 Axes>"
      ]
     },
     "metadata": {
      "needs_background": "light"
     },
     "output_type": "display_data"
    }
   ],
   "source": [
    "from sklearn.metrics import plot_confusion_matrix\n",
    "plot_confusion_matrix(logreg1, X_train_scaled, y_train)"
   ]
  },
  {
   "cell_type": "code",
   "execution_count": 69,
   "id": "7c0baf29-e3ba-4969-b293-866a4d131866",
   "metadata": {},
   "outputs": [
    {
     "data": {
      "text/plain": [
       "<sklearn.metrics._plot.confusion_matrix.ConfusionMatrixDisplay at 0x1656c46a0>"
      ]
     },
     "execution_count": 69,
     "metadata": {},
     "output_type": "execute_result"
    },
    {
     "data": {
      "image/png": "[encoded data removed]",
      "text/plain": [
       "<Figure size 432x288 with 2 Axes>"
      ]
     },
     "metadata": {
      "needs_background": "light"
     },
     "output_type": "display_data"
    }
   ],
   "source": [
    "plot_confusion_matrix(logreg1, X_val_scaled, y_tr_val)"
   ]
  },
  {
   "cell_type": "markdown",
   "id": "bdd16e2e-b88f-467e-bbae-4bf0c2526007",
   "metadata": {},
   "source": [
    "### Importing SMOTE from imblearn to resample the data for my model\n",
    "#### This was purely done to see if the model would perform better if the data being passed into the model was more balanced"
   ]
  },
  {
   "cell_type": "code",
   "execution_count": 70,
   "id": "07545491-e08c-4eac-947c-a98a6d634f25",
   "metadata": {},
   "outputs": [],
   "source": [
    "from imblearn.over_sampling import SMOTE\n",
    "sm = SMOTE(random_state=2021)"
   ]
  },
  {
   "cell_type": "code",
   "execution_count": 71,
   "id": "749336e9-46fd-46c1-90bf-40e11a3d4379",
   "metadata": {},
   "outputs": [],
   "source": [
    "X_train_res, y_train_res = sm.fit_resample(X_train_scaled, y_train)"
   ]
  },
  {
   "cell_type": "markdown",
   "id": "777348bc-4a00-47a1-8558-9aea4e67d00e",
   "metadata": {},
   "source": [
    "## Model 2 "
   ]
  },
  {
   "cell_type": "markdown",
   "id": "462bf727-c9c9-4f9e-8d6f-c49961bf6cb7",
   "metadata": {},
   "source": [
    "- #### This second logistic regression is going to be fit on the resampled training data and the original validation data"
   ]
  },
  {
   "cell_type": "code",
   "execution_count": 72,
   "id": "b08c263f-41f3-4b34-904b-4fbb4d28bcda",
   "metadata": {},
   "outputs": [],
   "source": [
    "logreg2 = LogisticRegression()"
   ]
  },
  {
   "cell_type": "code",
   "execution_count": 73,
   "id": "4bcc0c4f-6474-40ca-bea9-dc490173b35a",
   "metadata": {},
   "outputs": [
    {
     "name": "stdout",
     "output_type": "stream",
     "text": [
      "Training accuracy_score:  0.8828633405639913\n",
      "Validation accuracy_score:  0.9042457091237579\n",
      "Training precision_score:  0.8996226415094339\n",
      "Validation precision_score:  0.3875\n"
     ]
    },
    {
     "data": {
      "text/plain": [
       "LogisticRegression()"
      ]
     },
     "execution_count": 73,
     "metadata": {},
     "output_type": "execute_result"
    }
   ],
   "source": [
    "modeling_function(logreg2, X_train_res, y_train_res, X_val_scaled, y_tr_val)"
   ]
  },
  {
   "cell_type": "markdown",
   "id": "6ac05664-e98b-4727-a2ca-4b78dc4412f3",
   "metadata": {},
   "source": [
    "- #### Below is another similar process as before where I am running a confusion matrix on the "
   ]
  },
  {
   "cell_type": "code",
   "execution_count": 74,
   "id": "e1f8e6ca-7121-4c1b-ae7a-956df0121d0d",
   "metadata": {},
   "outputs": [
    {
     "data": {
      "text/plain": [
       "<sklearn.metrics._plot.confusion_matrix.ConfusionMatrixDisplay at 0x165e0de50>"
      ]
     },
     "execution_count": 74,
     "metadata": {},
     "output_type": "execute_result"
    },
    {
     "data": {
      "image/png": "[encoded data removed]",
      "text/plain": [
       "<Figure size 432x288 with 2 Axes>"
      ]
     },
     "metadata": {
      "needs_background": "light"
     },
     "output_type": "display_data"
    }
   ],
   "source": [
    "plot_confusion_matrix(logreg2, X_train_res, y_train_res)"
   ]
  },
  {
   "cell_type": "code",
   "execution_count": 75,
   "id": "d36d8150-b116-4631-93a8-f39c7c3e675f",
   "metadata": {},
   "outputs": [
    {
     "data": {
      "text/plain": [
       "<sklearn.metrics._plot.confusion_matrix.ConfusionMatrixDisplay at 0x1658bb880>"
      ]
     },
     "execution_count": 75,
     "metadata": {},
     "output_type": "execute_result"
    },
    {
     "data": {
      "image/png": "[encoded data removed]",
      "text/plain": [
       "<Figure size 432x288 with 2 Axes>"
      ]
     },
     "metadata": {
      "needs_background": "light"
     },
     "output_type": "display_data"
    }
   ],
   "source": [
    "plot_confusion_matrix(logreg2, X_val_scaled, y_tr_val)"
   ]
  },
  {
   "cell_type": "markdown",
   "id": "ecd46845-edfe-4391-91cb-0b022278034a",
   "metadata": {},
   "source": [
    "## Model 3"
   ]
  },
  {
   "cell_type": "markdown",
   "id": "8dc9e339-6f0e-423b-85ca-359ab3853abd",
   "metadata": {},
   "source": [
    "### Logistic Regression 3 tuned"
   ]
  },
  {
   "cell_type": "code",
   "execution_count": 76,
   "id": "8dd34c28-9520-4118-b011-0e21124412a0",
   "metadata": {},
   "outputs": [],
   "source": [
    "logreg3 = LogisticRegression(random_state=42)"
   ]
  },
  {
   "cell_type": "markdown",
   "id": "53689eb6-f710-4c96-876e-6553810aa042",
   "metadata": {},
   "source": [
    "### Creating a parameter grid for a logistic regression grid search"
   ]
  },
  {
   "cell_type": "code",
   "execution_count": 77,
   "id": "db04066a-008b-4b32-a16e-262197b4ff08",
   "metadata": {},
   "outputs": [],
   "source": [
    "param_grid_logreg = {'penalty': ['l1', 'l2'],\n",
    "                    'C': [1.0, 2.0, 3.0, 4.0],\n",
    "                    'solver': ['newton-cg', 'lbfgs', 'liblinear', 'sag', 'saga'],\n",
    "                    'n_jobs': [-1]}"
   ]
  },
  {
   "cell_type": "code",
   "execution_count": 78,
   "id": "e19a22c6-ed07-4b83-90db-23a11a2655de",
   "metadata": {},
   "outputs": [],
   "source": [
    "logreg_gs = GridSearchCV(estimator=logreg3, param_grid=param_grid_logreg, scoring='accuracy')\n",
    "\n",
    "\n"
   ]
  },
  {
   "cell_type": "markdown",
   "id": "4bbc0ef9-e41a-4d6a-b36e-aabec5f31a3c",
   "metadata": {},
   "source": [
    "### Fitting the X_train_scaled and y_train to my grid search"
   ]
  },
  {
   "cell_type": "code",
   "execution_count": 79,
   "id": "613d6471-5707-4d2f-bd3f-841f305c5c1c",
   "metadata": {
    "tags": []
   },
   "outputs": [
    {
     "data": {
      "text/plain": [
       "GridSearchCV(estimator=LogisticRegression(random_state=42),\n",
       "             param_grid={'C': [1.0, 2.0, 3.0, 4.0], 'n_jobs': [-1],\n",
       "                         'penalty': ['l1', 'l2'],\n",
       "                         'solver': ['newton-cg', 'lbfgs', 'liblinear', 'sag',\n",
       "                                    'saga']},\n",
       "             scoring='accuracy')"
      ]
     },
     "execution_count": 79,
     "metadata": {},
     "output_type": "execute_result"
    }
   ],
   "source": [
    "logreg_gs.fit(X_train_scaled, y_train)"
   ]
  },
  {
   "cell_type": "markdown",
   "id": "c5db65b6-a763-4d4a-b314-20569bc52c67",
   "metadata": {},
   "source": [
    "### These are the best parameters for the logistic regression"
   ]
  },
  {
   "cell_type": "code",
   "execution_count": 80,
   "id": "85b9b18c-4c73-417f-ac56-03d8d8a51b41",
   "metadata": {},
   "outputs": [
    {
     "data": {
      "text/plain": [
       "{'C': 3.0, 'n_jobs': -1, 'penalty': 'l2', 'solver': 'liblinear'}"
      ]
     },
     "execution_count": 80,
     "metadata": {},
     "output_type": "execute_result"
    }
   ],
   "source": [
    "logreg_gs.best_params_"
   ]
  },
  {
   "cell_type": "markdown",
   "id": "4a11a748-6825-4d57-8507-c095de496f01",
   "metadata": {},
   "source": [
    "### The .best_estimator_ function to append the best parameters to my logistic regression"
   ]
  },
  {
   "cell_type": "code",
   "execution_count": 81,
   "id": "d747f179-482c-41a0-80ed-6bfbf2e98745",
   "metadata": {},
   "outputs": [],
   "source": [
    "logreg3_best_params = logreg_gs.best_estimator_"
   ]
  },
  {
   "cell_type": "markdown",
   "id": "135ff065-be36-4858-9a9a-959d9cbfd237",
   "metadata": {},
   "source": [
    "### Using the modeling function to get the accuracy and precision scores for my logreg3_best_params"
   ]
  },
  {
   "cell_type": "code",
   "execution_count": 82,
   "id": "31361ed8-132e-47bc-9cc0-9b3fdce13882",
   "metadata": {},
   "outputs": [
    {
     "name": "stdout",
     "output_type": "stream",
     "text": [
      "Training accuracy_score:  0.967479674796748\n",
      "Validation accuracy_score:  0.9701897018970189\n",
      "Training precision_score:  0.8461538461538461\n",
      "Validation precision_score:  0.8627450980392157\n"
     ]
    },
    {
     "data": {
      "text/plain": [
       "LogisticRegression(C=3.0, n_jobs=-1, random_state=42, solver='liblinear')"
      ]
     },
     "execution_count": 82,
     "metadata": {},
     "output_type": "execute_result"
    }
   ],
   "source": [
    "modeling_function(logreg3_best_params, X_train_scaled, y_train, X_val_scaled, y_tr_val)\n"
   ]
  },
  {
   "cell_type": "markdown",
   "id": "4395571b-18c3-427b-9ccc-683a0c523cf7",
   "metadata": {},
   "source": [
    "### Imputing and Scaling the Test variable to test on my Model"
   ]
  },
  {
   "cell_type": "code",
   "execution_count": 83,
   "id": "cb3add74-c18f-45ce-a965-858dec2d3fd1",
   "metadata": {},
   "outputs": [],
   "source": [
    "X_test_imputed = pd.DataFrame(imputer.transform(X_test))"
   ]
  },
  {
   "cell_type": "code",
   "execution_count": 84,
   "id": "e11f2068-845f-49be-98fa-4d0a9cdb1dcc",
   "metadata": {},
   "outputs": [],
   "source": [
    "X_test_scaled = pd.DataFrame(scaler.transform(X_test_imputed))"
   ]
  },
  {
   "cell_type": "markdown",
   "id": "fec27df4-cc61-4092-a108-db3051f8d9f5",
   "metadata": {},
   "source": [
    "## Model 4"
   ]
  },
  {
   "cell_type": "markdown",
   "id": "79fe4363-dc29-47ec-81d0-e8663aa03100",
   "metadata": {},
   "source": [
    "### Random Forest no tuning"
   ]
  },
  {
   "cell_type": "code",
   "execution_count": 85,
   "id": "2a440e8a-e570-4c6c-9581-fc860bcc9a95",
   "metadata": {},
   "outputs": [],
   "source": [
    "rf = RandomForestClassifier(random_state=2021)"
   ]
  },
  {
   "cell_type": "code",
   "execution_count": 86,
   "id": "d68ecafb-e579-485e-91d6-5ea8f120d039",
   "metadata": {
    "tags": []
   },
   "outputs": [
    {
     "name": "stdout",
     "output_type": "stream",
     "text": [
      "Training accuracy_score:  1.0\n",
      "Validation accuracy_score:  1.0\n",
      "Training precision_score:  1.0\n",
      "Validation precision_score:  1.0\n"
     ]
    },
    {
     "data": {
      "text/plain": [
       "RandomForestClassifier(random_state=2021)"
      ]
     },
     "execution_count": 86,
     "metadata": {},
     "output_type": "execute_result"
    }
   ],
   "source": [
    "modeling_function(rf, X_train_scaled, y_train, X_val_scaled, y_tr_val)"
   ]
  },
  {
   "cell_type": "markdown",
   "id": "1a9a5b09-2060-4c5c-bfed-53eb22c98268",
   "metadata": {},
   "source": [
    "## Model 5"
   ]
  },
  {
   "cell_type": "markdown",
   "id": "352968a7-6464-4c8d-8f0c-2e985a92c459",
   "metadata": {},
   "source": [
    "### Random Forest initial tuning with GridSearchCV"
   ]
  },
  {
   "cell_type": "markdown",
   "id": "017a528b-97b4-4580-a7de-4c35ff2bda7e",
   "metadata": {},
   "source": [
    "### Creating a parameter grid for a Random Forest grid search"
   ]
  },
  {
   "cell_type": "code",
   "execution_count": 87,
   "id": "f5d613a5-21c8-4192-8f71-155d7ae4ddfb",
   "metadata": {},
   "outputs": [],
   "source": [
    "param_grid_rf = {'n_estimators': [50, 75, 100],\n",
    "              'max_depth': [20, 50, 75],\n",
    "              'min_samples_leaf': [5, 10, 15],\n",
    "              'criterion': ['gini', 'entropy'],\n",
    "              'max_leaf_nodes': [5, 10, 15, 20],\n",
    "              'n_jobs': [-1]}"
   ]
  },
  {
   "cell_type": "code",
   "execution_count": 88,
   "id": "95815ebc-c09c-44dc-afd0-d9453ba84a88",
   "metadata": {},
   "outputs": [],
   "source": [
    "rf_gs = GridSearchCV(estimator=rf, param_grid=param_grid_rf, scoring='accuracy')\n",
    "\n",
    "\n"
   ]
  },
  {
   "cell_type": "markdown",
   "id": "dc057e2a-ca63-4370-9619-d92c6c249880",
   "metadata": {},
   "source": [
    "### Fitting my X_train_scaled and y_train to the random forest grid search"
   ]
  },
  {
   "cell_type": "code",
   "execution_count": 89,
   "id": "1f20daea-f008-4a80-8692-ef88760d110a",
   "metadata": {
    "tags": []
   },
   "outputs": [
    {
     "data": {
      "text/plain": [
       "GridSearchCV(estimator=RandomForestClassifier(random_state=2021),\n",
       "             param_grid={'criterion': ['gini', 'entropy'],\n",
       "                         'max_depth': [20, 50, 75],\n",
       "                         'max_leaf_nodes': [5, 10, 15, 20],\n",
       "                         'min_samples_leaf': [5, 10, 15],\n",
       "                         'n_estimators': [50, 75, 100], 'n_jobs': [-1]},\n",
       "             scoring='accuracy')"
      ]
     },
     "execution_count": 89,
     "metadata": {},
     "output_type": "execute_result"
    }
   ],
   "source": [
    "rf_gs.fit(X_train_scaled, y_train)"
   ]
  },
  {
   "cell_type": "code",
   "execution_count": 90,
   "id": "bcb93d81-2662-4440-9673-d59b024e448a",
   "metadata": {},
   "outputs": [],
   "source": [
    "rf_model_1 = rf_gs.best_estimator_"
   ]
  },
  {
   "cell_type": "code",
   "execution_count": 91,
   "id": "ca53ca81-64e1-4e96-8915-a29beb6ddff1",
   "metadata": {},
   "outputs": [
    {
     "data": {
      "text/plain": [
       "{'criterion': 'entropy',\n",
       " 'max_depth': 20,\n",
       " 'max_leaf_nodes': 20,\n",
       " 'min_samples_leaf': 5,\n",
       " 'n_estimators': 75,\n",
       " 'n_jobs': -1}"
      ]
     },
     "execution_count": 91,
     "metadata": {},
     "output_type": "execute_result"
    }
   ],
   "source": [
    "rf_gs.best_params_"
   ]
  },
  {
   "cell_type": "markdown",
   "id": "c1348e23-2336-441d-af10-7baea47cff35",
   "metadata": {},
   "source": [
    "### Using the modeling function and the best parameters for the random forest model to produce the desired outcome"
   ]
  },
  {
   "cell_type": "code",
   "execution_count": 92,
   "id": "1d1fd5d8-ce6a-4576-8ef7-1ac90bd593d1",
   "metadata": {},
   "outputs": [
    {
     "name": "stdout",
     "output_type": "stream",
     "text": [
      "Training accuracy_score:  0.9695121951219512\n",
      "Validation accuracy_score:  0.973803071364047\n",
      "Training precision_score:  0.9444444444444444\n",
      "Validation precision_score:  0.9555555555555556\n"
     ]
    },
    {
     "data": {
      "text/plain": [
       "RandomForestClassifier(criterion='entropy', max_depth=20, max_leaf_nodes=20,\n",
       "                       min_samples_leaf=5, n_estimators=75, n_jobs=-1,\n",
       "                       random_state=2021)"
      ]
     },
     "execution_count": 92,
     "metadata": {},
     "output_type": "execute_result"
    }
   ],
   "source": [
    "modeling_function(rf_model_1, X_train_scaled, y_train, X_val_scaled, y_tr_val)\n",
    "\n",
    "\n"
   ]
  },
  {
   "cell_type": "markdown",
   "id": "c5002b5c-84a7-4d2f-b9f9-0b6041b1b5f0",
   "metadata": {},
   "source": [
    "### Plotting a confusion matrix for the Training set and the Validation set"
   ]
  },
  {
   "cell_type": "code",
   "execution_count": 93,
   "id": "4f413d46-c824-4a05-ae3a-a04ba9bf46c8",
   "metadata": {},
   "outputs": [
    {
     "data": {
      "text/plain": [
       "<sklearn.metrics._plot.confusion_matrix.ConfusionMatrixDisplay at 0x1059d1730>"
      ]
     },
     "execution_count": 93,
     "metadata": {},
     "output_type": "execute_result"
    },
    {
     "data": {
      "image/png": "[encoded data removed]",
      "text/plain": [
       "<Figure size 432x288 with 2 Axes>"
      ]
     },
     "metadata": {
      "needs_background": "light"
     },
     "output_type": "display_data"
    }
   ],
   "source": [
    "plot_confusion_matrix(rf_model_1, X_train_scaled, y_train)"
   ]
  },
  {
   "cell_type": "code",
   "execution_count": 94,
   "id": "a2636e84-ec65-4c61-bfa9-6af7cb95f5ca",
   "metadata": {},
   "outputs": [
    {
     "data": {
      "text/plain": [
       "<sklearn.metrics._plot.confusion_matrix.ConfusionMatrixDisplay at 0x16552ddc0>"
      ]
     },
     "execution_count": 94,
     "metadata": {},
     "output_type": "execute_result"
    },
    {
     "data": {
      "image/png": "[encoded data removed]",
      "text/plain": [
       "<Figure size 432x288 with 2 Axes>"
      ]
     },
     "metadata": {
      "needs_background": "light"
     },
     "output_type": "display_data"
    }
   ],
   "source": [
    "plot_confusion_matrix(rf_model_1, X_val_scaled, y_tr_val)"
   ]
  },
  {
   "cell_type": "markdown",
   "id": "0248e35a-9008-45ec-8df6-78a2290dc519",
   "metadata": {},
   "source": [
    "### Creating the test predictions variable and running the accuracy score and precision score of the model on my Test variable"
   ]
  },
  {
   "cell_type": "markdown",
   "id": "86962467-eee5-4ed1-a04e-35d18f9b3a0b",
   "metadata": {},
   "source": [
    "## Model 6"
   ]
  },
  {
   "cell_type": "markdown",
   "id": "d045300b-06a5-460b-84d9-b6d24c779936",
   "metadata": {},
   "source": [
    "### Doing tuning with a GridSearchCV on my Random Forest"
   ]
  },
  {
   "cell_type": "code",
   "execution_count": 95,
   "id": "8400d112-e506-4b61-acf9-90648480d9b8",
   "metadata": {},
   "outputs": [],
   "source": [
    "rf2 = RandomForestClassifier(random_state=2021)"
   ]
  },
  {
   "cell_type": "markdown",
   "id": "1899a672-3908-4015-826b-a5b815858a89",
   "metadata": {},
   "source": [
    "### Creating a parameter grid for the Random Forest Grid Search"
   ]
  },
  {
   "cell_type": "code",
   "execution_count": 96,
   "id": "e95b27bc-49b0-471f-94c8-b56e752cc7ca",
   "metadata": {},
   "outputs": [],
   "source": [
    "param_grid_rf2 = {'max_depth': [10, 15, 20, 25, 30],\n",
    "               'n_estimators': [65, 70, 75, 80, 85],\n",
    "              'min_samples_leaf': [3, 4, 5, 6, 7, 8],\n",
    "              'max_leaf_nodes': [18, 20, 22, 25],\n",
    "              'n_jobs': [-1]}"
   ]
  },
  {
   "cell_type": "code",
   "execution_count": 97,
   "id": "754fd8f2-f47c-4187-a942-fd4fa2bcb605",
   "metadata": {},
   "outputs": [],
   "source": [
    "rf2_gs = GridSearchCV(estimator=rf2, param_grid=param_grid_rf2, scoring='accuracy')\n",
    "\n"
   ]
  },
  {
   "cell_type": "markdown",
   "id": "ef39e00a-8354-44b0-afbc-acd360af764b",
   "metadata": {},
   "source": [
    "### Fitting the Grid Search to the X_train_scaled and y_train"
   ]
  },
  {
   "cell_type": "code",
   "execution_count": null,
   "id": "defbaa21-4668-43c5-a344-4277b74f0f5a",
   "metadata": {},
   "outputs": [],
   "source": [
    "rf2_gs.fit(X_train_scaled, y_train)"
   ]
  },
  {
   "cell_type": "markdown",
   "id": "a44c42e8-0866-4d76-b5de-b00ba00023f6",
   "metadata": {},
   "source": [
    "### Using the best_estimator_ feature to append the best parameters to the random forest model"
   ]
  },
  {
   "cell_type": "code",
   "execution_count": null,
   "id": "5db0c45e-c90e-4f66-9c6a-44bb23fc846a",
   "metadata": {},
   "outputs": [],
   "source": [
    "rf_model_2 = rf2_gs.best_estimator_"
   ]
  },
  {
   "cell_type": "code",
   "execution_count": null,
   "id": "4bce1480-8f3c-436c-825b-d244c4f392fc",
   "metadata": {},
   "outputs": [],
   "source": [
    "rf2_gs.best_params_"
   ]
  },
  {
   "cell_type": "markdown",
   "id": "b25cf879-63e4-4ae1-85cb-65877b0ba89d",
   "metadata": {},
   "source": [
    "### Using the modeling function to get the scores for my Training and Validation sets"
   ]
  },
  {
   "cell_type": "code",
   "execution_count": null,
   "id": "b066e0e7-37aa-4cbb-8de3-93a19c21a76e",
   "metadata": {},
   "outputs": [],
   "source": [
    "modeling_function(rf_model_2, X_train_scaled, y_train, X_val_scaled, y_tr_val)\n",
    "\n"
   ]
  },
  {
   "cell_type": "markdown",
   "id": "a2d12066-1a49-4c51-8d4e-c68655bbc59a",
   "metadata": {},
   "source": [
    "### Plotting confusion matrix's for the Training and Validation sets"
   ]
  },
  {
   "cell_type": "code",
   "execution_count": null,
   "id": "8074cbb3-4d99-4eae-9420-4932b44ed086",
   "metadata": {},
   "outputs": [],
   "source": [
    "plot_confusion_matrix(rf_model_2, X_train_scaled, y_train)"
   ]
  },
  {
   "cell_type": "code",
   "execution_count": null,
   "id": "e012cd31-6c16-4d7d-bfbe-b802a24f55f6",
   "metadata": {},
   "outputs": [],
   "source": [
    "plot_confusion_matrix(rf_model_2, X_val_scaled, y_tr_val)"
   ]
  },
  {
   "cell_type": "markdown",
   "id": "5bfb4335-ab01-4ae9-b43d-af6bb092015a",
   "metadata": {},
   "source": [
    "### Creating the Test Predictions variable for my rf_model_2 in order to test the accuracy and precision scores of the model"
   ]
  },
  {
   "cell_type": "code",
   "execution_count": null,
   "id": "8793d7ef-1452-4efb-9e03-789451dda894",
   "metadata": {},
   "outputs": [],
   "source": [
    "rf_2_test_preds = rf_model_2.predict(X_test_scaled)"
   ]
  },
  {
   "cell_type": "code",
   "execution_count": null,
   "id": "3459a474-ebd4-4c66-ba4a-1de641976c10",
   "metadata": {},
   "outputs": [],
   "source": [
    "print('Accuracy Score of Test :', accuracy_score(y_test, rf_2_test_preds))\n",
    "print('Precision Score of Test :', precision_score(y_test, rf_2_test_preds))\n",
    "\n",
    "\n"
   ]
  },
  {
   "cell_type": "markdown",
   "id": "2572b24f-afed-4fc6-a5ec-4bb2539d477d",
   "metadata": {},
   "source": [
    "## ROC_AUC graph for accuracy"
   ]
  },
  {
   "cell_type": "markdown",
   "id": "d4a7eb95-2f66-43d8-875a-30a962dac770",
   "metadata": {},
   "source": [
    "#### Testing ROC_AUC on Model 3"
   ]
  },
  {
   "cell_type": "code",
   "execution_count": null,
   "id": "ed79684c-f8ad-4cb6-8565-2bcd4353e439",
   "metadata": {},
   "outputs": [],
   "source": [
    "from sklearn import metrics\n",
    "import matplotlib.pyplot as plt\n",
    "%matplotlib inline"
   ]
  },
  {
   "cell_type": "code",
   "execution_count": null,
   "id": "886668be-b2b0-4ffb-95ef-1c7c7a8ee6f5",
   "metadata": {},
   "outputs": [],
   "source": [
    "y_pred_proba_logreg3 = logreg3_best_params.predict_proba(X_test_scaled)[::,1]\n",
    "fpr, tpr, _ = metrics.roc_curve(y_test,  y_pred_proba_logreg3)\n",
    "auc = metrics.roc_auc_score(y_test, y_pred_proba_logreg3)\n",
    "plt.plot(fpr,tpr,label=\"data 1, auc=\"+str(auc))\n",
    "plt.plot([0,1], [0,1], color='orange', linestyle='--')\n",
    "plt.legend(loc=4)\n"
   ]
  },
  {
   "cell_type": "markdown",
   "id": "7ec3ec8b-a66d-45ef-81c0-7e427549ec98",
   "metadata": {},
   "source": [
    "#### Testing ROC_AUC on Model 5"
   ]
  },
  {
   "cell_type": "code",
   "execution_count": null,
   "id": "2185af88-2b4b-4aa8-8241-bd8bb4954d60",
   "metadata": {},
   "outputs": [],
   "source": [
    "y_pred_proba_rf_1 = rf_model_1.predict_proba(X_test_scaled)[::,1]\n",
    "fpr, tpr, _ = metrics.roc_curve(y_test,  y_pred_proba_rf_1)\n",
    "auc = metrics.roc_auc_score(y_test, y_pred_proba_rf_1)\n",
    "plt.plot(fpr,tpr,label=\"data 1, auc=\"+str(auc))\n",
    "plt.plot([0,1], [0,1], color='orange', linestyle='--')\n",
    "plt.legend(loc=4)\n"
   ]
  },
  {
   "cell_type": "markdown",
   "id": "1c4830cf-2f4a-42a6-af67-91cc4734776c",
   "metadata": {},
   "source": [
    "#### Testing ROC_AUC on Model 6"
   ]
  },
  {
   "cell_type": "code",
   "execution_count": null,
   "id": "85fe1c6d-0a1a-4f79-9a37-09522e326392",
   "metadata": {},
   "outputs": [],
   "source": [
    "y_pred_proba_rf_2 = rf_model_2.predict_proba(X_test_scaled)[::,1]\n",
    "fpr, tpr, _ = metrics.roc_curve(y_test,  y_pred_proba_rf_2)\n",
    "auc = metrics.roc_auc_score(y_test, y_pred_proba_rf_2)\n",
    "plt.plot(fpr,tpr,label=\"data 1, auc=\"+str(auc))\n",
    "plt.plot([0,1], [0,1], color='orange', linestyle='--')\n",
    "plt.legend(loc=4)\n"
   ]
  },
  {
   "cell_type": "markdown",
   "id": "e46d3651-943e-4b53-932b-c54af45a02d7",
   "metadata": {},
   "source": [
    "## Combined ROC_AUC for all three of the top models"
   ]
  },
  {
   "cell_type": "code",
   "execution_count": null,
   "id": "919dac89-6ad5-49dd-ac53-320c01e6d73a",
   "metadata": {},
   "outputs": [],
   "source": [
    "fpr_log, tpr_log, _ = metrics.roc_curve(y_test,  y_pred_proba_logreg3)\n",
    "auc_logreg = metrics.roc_auc_score(y_test, y_pred_proba_logreg3)\n",
    "\n",
    "fpr_rf_1, tpr_rf_1, _ = metrics.roc_curve(y_test,  y_pred_proba_rf_1)\n",
    "auc_rf_1 = metrics.roc_auc_score(y_test, y_pred_proba_rf_1)\n",
    "\n",
    "fpr_rf_2, tpr_rf_2, _ = metrics.roc_curve(y_test,  y_pred_proba_rf_2)\n",
    "auc_rf_2 = metrics.roc_auc_score(y_test, y_pred_proba_rf_2)\n",
    "\n",
    "\n",
    "plt.plot(fpr_log, tpr_log, color='blue', label=\"LogisticRegression AUC=\"+str(auc_logreg))\n",
    "plt.plot(fpr_rf_1, tpr_rf_1, color='red', label=\"RandomForest 1 AUC=\"+str(auc_rf_1))\n",
    "plt.plot(fpr_rf_2, tpr_rf_2, color='green', label=\"RandomForest 2 AUC=\"+str(auc_rf_2))\n",
    "\n",
    "plt.plot([0,1], [0,1], color='orange', linestyle='--')\n",
    "plt.legend(loc=4)\n",
    "plt.show();"
   ]
  },
  {
   "cell_type": "code",
   "execution_count": null,
   "id": "349c3d08-847d-4af7-9fc5-ea1209cf16d8",
   "metadata": {},
   "outputs": [],
   "source": []
  }
 ],
 "metadata": {
  "kernelspec": {
   "display_name": "learn-env",
   "language": "python",
   "name": "learn-env"
  },
  "language_info": {
   "codemirror_mode": {
    "name": "ipython",
    "version": 3
   },
   "file_extension": ".py",
   "mimetype": "text/x-python",
   "name": "python",
   "nbconvert_exporter": "python",
   "pygments_lexer": "ipython3",
   "version": "3.8.5"
  },
  "toc-autonumbering": false,
  "toc-showcode": false
 },
 "nbformat": 4,
 "nbformat_minor": 5
}
